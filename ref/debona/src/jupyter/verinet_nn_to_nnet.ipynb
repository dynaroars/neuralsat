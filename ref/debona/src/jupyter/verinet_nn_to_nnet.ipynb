{
 "cells": [
  {
   "cell_type": "code",
   "execution_count": 6,
   "metadata": {},
   "outputs": [
    {
     "name": "stdout",
     "output_type": "stream",
     "text": [
      "The autoreload extension is already loaded. To reload it, use:\n",
      "  %reload_ext autoreload\n"
     ]
    }
   ],
   "source": [
    "import os\n",
    "os.chdir(\"/home/patrick/Desktop/VeriNet\")\n",
    "\n",
    "import torch\n",
    "import numpy as np\n",
    "import torch.nn as nn\n",
    "\n",
    "from src.neural_networks.verinet_nn import VeriNetNN\n",
    "from src.neural_networks.cifar10 import Cifar10\n",
    "from src.data_loader.nnet import NNET\n",
    "\n",
    "%load_ext autoreload\n",
    "%autoreload 2"
   ]
  },
  {
   "cell_type": "markdown",
   "metadata": {},
   "source": [
    "### Convert Cifar10 to nnet"
   ]
  },
  {
   "cell_type": "code",
   "execution_count": 2,
   "metadata": {},
   "outputs": [],
   "source": [
    "model = Cifar10()\n",
    "model.load(\"./data/models_torch/cifar10_state_dict.pth\")\n",
    "nnet = NNET()\n",
    "\n",
    "img_size = 32*32\n",
    "\n",
    "input_mean = np.zeros(3*32*32)\n",
    "input_mean[:32*32] = 0.4914\n",
    "input_mean[32*32:2*32*32] = 0.4822\n",
    "input_mean[2*32*32:] = 0.4465\n",
    "\n",
    "input_range = np.zeros(3*32*32)\n",
    "input_range[:32*32] = 0.2023\n",
    "input_range[32*32:2*32*32] = 0.1994\n",
    "input_range[2*32*32:] = 0.2010\n",
    "\n",
    "nnet.init_nnet_from_verinet_nn(model=model, input_shape=np.array((3, 32, 32)), min_values=0.0, \n",
    "                               max_values=1.0, input_mean=input_mean, input_range=input_range)\n",
    "nnet.write_nnet_to_file(\"./data/models_nnet/cifar10_conv.nnet\")"
   ]
  },
  {
   "cell_type": "markdown",
   "metadata": {},
   "source": [
    "### Convert eran to nnet\n",
    "\n",
    "Converts the mnist Sigmoid/Tanh networks from eran to nnet format"
   ]
  },
  {
   "cell_type": "code",
   "execution_count": 17,
   "metadata": {},
   "outputs": [],
   "source": [
    "model_name = \"ffnnTANH__PGDK_w_0.1_6_500\"\n",
    "model_path = f\"/home/patrick/Desktop/VeriNet/eran-benchmark/eran/data/{model_name}.pyt\"\n",
    "act_func = nn.Tanh\n",
    "\n",
    "layers = [\n",
    "    nn.Sequential(nn.Linear(784, 500), act_func()),\n",
    "    nn.Sequential(nn.Linear(500, 500), act_func()),\n",
    "    nn.Sequential(nn.Linear(500, 500), act_func()),\n",
    "    nn.Sequential(nn.Linear(500, 500), act_func()),\n",
    "    nn.Sequential(nn.Linear(500, 500), act_func()),\n",
    "    nn.Sequential(nn.Linear(500, 500), act_func()),\n",
    "    nn.Sequential(nn.Linear(500, 10)),\n",
    "    ]\n",
    "\n",
    "with open(model_path, \"r\") as file:\n",
    "    # skip header\n",
    "    file.readline()\n",
    "    file.readline()\n",
    "\n",
    "    for j in range(len(layers)):\n",
    "        layer = list(layers[j].children())[0]\n",
    "        in_size = layer.in_features\n",
    "        out_size = layer.out_features\n",
    "        weights = torch.Tensor([float(w) for w in file.readline().replace('[', '').replace(']', '').split(\", \")])\n",
    "        layer.weight.data = weights.reshape(out_size, in_size)\n",
    "        bias = torch.Tensor([float(w) for w in file.readline().replace('[', '').replace(']', '').split(\", \")])\n",
    "        layer.bias.data = bias\n",
    "\n",
    "        file.readline()\n",
    "\n",
    "model = VeriNetNN(layers)\n",
    "nnet = NNET()\n",
    "nnet.init_nnet_from_verinet_nn(model=model, input_shape=np.array((784)), min_values=0.0, \n",
    "                               max_values=1.0, input_mean=0.1307, input_range=0.3081)\n",
    "nnet.write_nnet_to_file(f\"./data/models_nnet/{model_name}.nnet\")"
   ]
  },
  {
   "cell_type": "code",
   "execution_count": null,
   "metadata": {},
   "outputs": [],
   "source": []
  }
 ],
 "metadata": {
  "kernelspec": {
   "display_name": "verinet",
   "language": "python",
   "name": "verinet"
  },
  "language_info": {
   "codemirror_mode": {
    "name": "ipython",
    "version": 3
   },
   "file_extension": ".py",
   "mimetype": "text/x-python",
   "name": "python",
   "nbconvert_exporter": "python",
   "pygments_lexer": "ipython3",
   "version": "3.6.8"
  }
 },
 "nbformat": 4,
 "nbformat_minor": 2
}
